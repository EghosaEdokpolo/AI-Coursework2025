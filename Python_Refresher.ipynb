{
 "cells": [
  {
   "cell_type": "code",
   "execution_count": 1,
   "id": "04d9f6d4",
   "metadata": {},
   "outputs": [
    {
     "name": "stdout",
     "output_type": "stream",
     "text": [
      "hello, please input a set number of days:\n",
      "the days 17 is equal to 1468800 in seconds.\n"
     ]
    }
   ],
   "source": [
    "#QUESTION 1\n",
    "#printing out to the user\n",
    "print(\"hello, please input a set number of days:\")\n",
    "\n",
    "#calling the input function and multiplying it by the hours and minutes\n",
    "days = int(input())\n",
    "seconds = 24*60*60\n",
    "total_time = days*seconds\n",
    "\n",
    "#output the calculation\n",
    "print(f\"the days {days} is equal to {total_time} in seconds.\")\n"
   ]
  },
  {
   "cell_type": "code",
   "execution_count": 2,
   "id": "aa30b329",
   "metadata": {},
   "outputs": [
    {
     "name": "stdout",
     "output_type": "stream",
     "text": [
      "Volume is equal to 33.510321638291124.\n"
     ]
    }
   ],
   "source": [
    "#QUESTION 2\n",
    "#importing python inbuilt math function\n",
    "import math\n",
    "\n",
    "#asking user to input radius\n",
    "radius = int(input(\"please input a radius:\" ))\n",
    "\n",
    "#formula to claculate volume\n",
    "volume = 4/3*math.pi*radius**3\n",
    "\n",
    "#printing\n",
    "print(f\"Volume is equal to {volume}.\")\n"
   ]
  },
  {
   "cell_type": "code",
   "execution_count": 3,
   "id": "70c8ad15",
   "metadata": {},
   "outputs": [
    {
     "name": "stdout",
     "output_type": "stream",
     "text": [
      "Your area is - 1\n",
      "you perimeter is - 4\n"
     ]
    }
   ],
   "source": [
    "#QUESTION 3\n",
    "#restrincting input to integer\n",
    "length = int(input(\"please input a length:\" ))\n",
    "\n",
    "#defining the area function\n",
    "def area_of_square(length):\n",
    "    return length**2\n",
    "\n",
    "#defining the perimeter function\n",
    "def perimeter_of_square(length):\n",
    "    return 4*length\n",
    "\n",
    "#defining the main function to call area and perimeter function\n",
    "def main():\n",
    "    area = area_of_square(length)\n",
    "    perimeter = perimeter_of_square(length)\n",
    "\n",
    "    print(f\"Your area is - {area }\")\n",
    "    print(f\"you perimeter is - {perimeter}\")\n",
    "\n",
    "main()\n"
   ]
  },
  {
   "cell_type": "code",
   "execution_count": 4,
   "id": "d48c640d",
   "metadata": {},
   "outputs": [
    {
     "name": "stdout",
     "output_type": "stream",
     "text": [
      "wow it's a lower case character:)\n"
     ]
    }
   ],
   "source": [
    "#QUESTION 4\n",
    "\n",
    "#restricting input to string\n",
    "character = str(input(\"input a character, lets see...\"))\n",
    "\n",
    "#defining the if-else conditional function\n",
    "def character_case(character):\n",
    "    #using the inbuilt python method to check case of input\n",
    "    if character.isupper():\n",
    "        print(\"guess what, it's upper case :)\")\n",
    "    else:\n",
    "        print(\"wow it's a lower case character:)\")\n",
    "\n",
    "def main():\n",
    "    casectrl = character_case(character)\n",
    "\n",
    "main()\n"
   ]
  },
  {
   "cell_type": "code",
   "execution_count": 5,
   "id": "a31f48ee",
   "metadata": {},
   "outputs": [
    {
     "name": "stdout",
     "output_type": "stream",
     "text": [
      "1.0416666666666665\n"
     ]
    }
   ],
   "source": [
    "#QUESTION 5\n",
    "\n",
    "#giving the variables a value\n",
    "x = 0\n",
    "y = 20\n",
    "\n",
    "#using a while loop that stopes when y is less than 6\n",
    "while y>6:\n",
    "\n",
    "    #subtracting 4 from y and having the new value added to x\n",
    "    y = y-4\n",
    "    x = x + (2/y)\n",
    "\n",
    "print (x)\n"
   ]
  },
  {
   "cell_type": "code",
   "execution_count": 6,
   "id": "c62e2c89",
   "metadata": {},
   "outputs": [
    {
     "name": "stdout",
     "output_type": "stream",
     "text": [
      "\n",
      "\n",
      "4\n",
      "3\n",
      "4\n",
      "2\n",
      "1\n",
      "the average is 2.8\n"
     ]
    }
   ],
   "source": [
    "#QUESTION 6\n",
    "\n",
    "#creating an empty array\n",
    "import array as ar\n",
    "array = ar.array('i',())\n",
    "\n",
    "#using a for loop to define the range\n",
    "for i in range(5):\n",
    "    linputs = int(input(f\"enter input here: {i + 1}\"))\n",
    "    #adding the inputs to the array\n",
    "    array.append(linputs)\n",
    "\n",
    "#printing the elements in the array\n",
    "print(\"\\n\")\n",
    "for elements in array:\n",
    "    print(elements)\n",
    "\n",
    "#getting the average of the array\n",
    "totals = sum(array)\n",
    "average = totals/5\n",
    "\n",
    "print(f\"the average is {average}\")\n"
   ]
  },
  {
   "cell_type": "code",
   "execution_count": null,
   "id": "a3a33657",
   "metadata": {},
   "outputs": [],
   "source": [
    "#QUESTION 7\n",
    "\n",
    "#part A\n",
    "#creating an array\n",
    "import array as ar\n",
    "array = ar.array('i',(4, 2, 6, 7, 6, 9, 9))\n",
    "\n",
    "#converting the array to a list (works without) and using the set method to remove repeating values\n",
    "def distinct_values():\n",
    "    numbers = list(set(array))\n",
    "    return numbers\n",
    "\n",
    "def main():\n",
    "    print(\"Total elements in the array: \", len(array))\n",
    "    print(\"Distinct elements: \", len(distinct_values()))\n",
    "    print(f\"Distinct element values:  {distinct_values()}\")\n",
    "\n",
    "main()\n",
    "#can use a ',' or print f\n",
    "\n",
    "\n",
    "#part B\n",
    "#1...\n",
    "#creating an array with a range\n",
    "import array as ar\n",
    "array = ar.array('i', range(1, 100000))\n",
    "\n",
    "#selecting a random number from the Array\n",
    "import random\n",
    "random_select = random.choice(array)\n",
    "\n",
    "print(f\"The random selected number is: {random_select}\")\n",
    "\n"
   ]
  },
  {
   "cell_type": "code",
   "execution_count": null,
   "id": "93977be0",
   "metadata": {},
   "outputs": [
    {
     "name": "stderr",
     "output_type": "stream",
     "text": [
      "'[Question' is not recognized as an internal or external command,\n",
      "operable program or batch file.\n"
     ]
    }
   ],
   "source": [
    "![Question 7 screenshot](C:/Users/Eggy/Pictures/Screenshots/Question 7.png)\n"
   ]
  }
 ],
 "metadata": {
  "kernelspec": {
   "display_name": "Python 3",
   "language": "python",
   "name": "python3"
  },
  "language_info": {
   "codemirror_mode": {
    "name": "ipython",
    "version": 3
   },
   "file_extension": ".py",
   "mimetype": "text/x-python",
   "name": "python",
   "nbconvert_exporter": "python",
   "pygments_lexer": "ipython3",
   "version": "3.13.7"
  }
 },
 "nbformat": 4,
 "nbformat_minor": 5
}
